{
  "cells": [
    {
      "cell_type": "code",
      "source": [
        "from google.colab import drive\n",
        "drive.mount('/content/drive')"
      ],
      "metadata": {
        "id": "csOb1F3QiWKx",
        "outputId": "95a44c59-4451-4935-c33e-2d203e004014",
        "colab": {
          "base_uri": "https://localhost:8080/"
        }
      },
      "execution_count": 77,
      "outputs": [
        {
          "output_type": "stream",
          "name": "stdout",
          "text": [
            "Drive already mounted at /content/drive; to attempt to forcibly remount, call drive.mount(\"/content/drive\", force_remount=True).\n"
          ]
        }
      ]
    },
    {
      "cell_type": "markdown",
      "metadata": {
        "id": "ZTNYJ1mxiSWu"
      },
      "source": [
        "## Imports"
      ]
    },
    {
      "cell_type": "code",
      "execution_count": 78,
      "metadata": {
        "id": "roU82RaRiSWx"
      },
      "outputs": [],
      "source": [
        "import torch\n",
        "from torch.utils.data import Dataset, DataLoader, random_split\n",
        "from torchvision import transforms, datasets\n",
        "from PIL import Image\n",
        "import os\n",
        "import torch.nn as nn\n",
        "import numpy as np"
      ]
    },
    {
      "cell_type": "code",
      "source": [
        "os.chdir('/content/drive/My Drive/tumor-detection')"
      ],
      "metadata": {
        "id": "PUd-Pf5ujAif"
      },
      "execution_count": 79,
      "outputs": []
    },
    {
      "cell_type": "markdown",
      "metadata": {
        "id": "Qv4S6vaWiSWy"
      },
      "source": [
        "## Hyperparams & Data Preprocessing"
      ]
    },
    {
      "cell_type": "code",
      "execution_count": 80,
      "metadata": {
        "id": "Pnmvzp3BiSWy"
      },
      "outputs": [],
      "source": [
        "num_epochs = 10\n",
        "lr = 0.001\n",
        "batch_size = 16\n",
        "device = torch.device('cuda' if torch.cuda.is_available() else 'cpu')\n",
        "train_ratio, val_ratio, test_ratio = 0.7, 0.2, 0.1"
      ]
    },
    {
      "cell_type": "code",
      "execution_count": 81,
      "metadata": {
        "id": "Fs-XQAppiSWz"
      },
      "outputs": [],
      "source": [
        "class ImageDataset(Dataset):\n",
        "    def __init__(self, folder1, folder2, transformations = None):\n",
        "        self.folder1 = folder1\n",
        "        self.folder2 = folder2\n",
        "        self.image_files = []\n",
        "        self.labels = []\n",
        "        self.transformations = transformations\n",
        "\n",
        "        for f in os.listdir(folder1):\n",
        "            if os.path.isfile(os.path.join(folder1, f)):\n",
        "                self.image_files.append(os.path.join(folder1, f))\n",
        "                self.labels.append(1)\n",
        "\n",
        "        for f in os.listdir(folder2):\n",
        "            if os.path.isfile(os.path.join(folder2, f)):\n",
        "                self.image_files.append(os.path.join(folder2, f))\n",
        "                self.labels.append(0)\n",
        "\n",
        "    def __len__(self):\n",
        "        return len(self.image_files)\n",
        "\n",
        "    def __getitem__(self, idx):\n",
        "        img_name = self.image_files[idx]\n",
        "        image = Image.open(img_name).convert(\"RGB\")\n",
        "        label = self.labels[idx]\n",
        "\n",
        "        if self.transformations:\n",
        "            image = self.transformations(image)\n",
        "\n",
        "        return image, label"
      ]
    },
    {
      "cell_type": "code",
      "execution_count": 82,
      "metadata": {
        "id": "yGlZYOhCiSWz"
      },
      "outputs": [],
      "source": [
        "transform = transforms.Compose([\n",
        "    transforms.Resize((128, 128)),\n",
        "    transforms.ToTensor()           # Convert images to PyTorch tensors\n",
        "])\n",
        "\n",
        "dataset = ImageDataset(folder1='./data/Brain Tumor', folder2='./data/Healthy', transformations=transform)"
      ]
    },
    {
      "cell_type": "code",
      "execution_count": 83,
      "metadata": {
        "id": "FSuaqiqoiSWz"
      },
      "outputs": [],
      "source": [
        "# Split into train, val, test (70%, 20%, 10%)\n",
        "\n",
        "train_size = int(train_ratio * len(dataset))\n",
        "val_size = int(val_ratio * len(dataset))\n",
        "test_size = len(dataset) - train_size - val_size\n",
        "\n",
        "train_dataset, val_dataset, test_dataset = random_split(dataset, [train_size, val_size, test_size])\n"
      ]
    },
    {
      "cell_type": "code",
      "execution_count": 84,
      "metadata": {
        "id": "SXWomMx5iSW0"
      },
      "outputs": [],
      "source": [
        "# Create DataLoader objects for each subset\n",
        "\n",
        "train_loader = DataLoader(train_dataset, batch_size=batch_size, shuffle=True)\n",
        "val_loader = DataLoader(val_dataset, batch_size=batch_size, shuffle=False)\n",
        "test_loader = DataLoader(test_dataset, batch_size=batch_size, shuffle=False)"
      ]
    },
    {
      "cell_type": "code",
      "execution_count": 85,
      "metadata": {
        "id": "7RazPVjZiSW1",
        "outputId": "b1f79edb-103d-42e5-c68a-804611d7c1a5",
        "colab": {
          "base_uri": "https://localhost:8080/"
        }
      },
      "outputs": [
        {
          "output_type": "execute_result",
          "data": {
            "text/plain": [
              "(3220, 920, 460)"
            ]
          },
          "metadata": {},
          "execution_count": 85
        }
      ],
      "source": [
        "len(train_dataset), len(val_dataset), len(test_dataset) # Number of images for each split"
      ]
    },
    {
      "cell_type": "code",
      "execution_count": 86,
      "metadata": {
        "id": "NS_6abNsiSW2",
        "outputId": "7cce3499-6a80-459e-8265-cfc1b275b7ec",
        "colab": {
          "base_uri": "https://localhost:8080/"
        }
      },
      "outputs": [
        {
          "output_type": "execute_result",
          "data": {
            "text/plain": [
              "(202, 58, 29)"
            ]
          },
          "metadata": {},
          "execution_count": 86
        }
      ],
      "source": [
        "len(train_loader), len(val_loader), len(test_loader) # Number of batches for each loader"
      ]
    },
    {
      "cell_type": "markdown",
      "metadata": {
        "id": "V2v7HEbZiSW2"
      },
      "source": [
        "## Custom ConvNet"
      ]
    },
    {
      "cell_type": "code",
      "execution_count": 87,
      "metadata": {
        "id": "efN8MQyriSW3"
      },
      "outputs": [],
      "source": [
        "class CustomConvnet(nn.Module):\n",
        "    def __init__(self):\n",
        "        super().__init__()\n",
        "\n",
        "        self.conv1 = nn.Conv2d(3, 32, kernel_size=3, stride=2, padding=1, dilation=1)\n",
        "        self.bnd1 = nn.BatchNorm2d(32)\n",
        "        self.conv2 = nn.Conv2d(32, 64, kernel_size=3, stride=2, padding=1, dilation=1)\n",
        "        self.bnd2 = nn.BatchNorm2d(64)\n",
        "        self.conv3 = nn.Conv2d(64, 128, kernel_size=3, stride=2, padding=1, dilation=1)\n",
        "        self.bnd3 = nn.BatchNorm2d(128)\n",
        "        self.conv4 = nn.Conv2d(128, 256, kernel_size=3, stride=2, padding=1, dilation=1)\n",
        "        self.bnd4 = nn.BatchNorm2d(256)\n",
        "        self.conv5 = nn.Conv2d(256, 512, kernel_size=3, stride=2, padding=1, dilation=1)\n",
        "        self.bnd5 = nn.BatchNorm2d(512)\n",
        "        self.relu = nn.ReLU(inplace=True)\n",
        "        self.deconv1 = nn.ConvTranspose2d(512, 512, kernel_size=3, stride=2, padding=1, dilation=1, output_padding=1)\n",
        "        self.bn1 = nn.BatchNorm2d(512)\n",
        "        self.deconv2 = nn.ConvTranspose2d(512, 256, kernel_size=3, stride=2, padding=1, dilation=1, output_padding=1)\n",
        "        self.bn2 = nn.BatchNorm2d(256)\n",
        "        self.deconv3 = nn.ConvTranspose2d(256, 128, kernel_size=3, stride=2, padding=1, dilation=1, output_padding=1)\n",
        "        self.bn3 = nn.BatchNorm2d(128)\n",
        "        self.deconv4 = nn.ConvTranspose2d(128, 64, kernel_size=3, stride=2, padding=1, dilation=1, output_padding=1)\n",
        "        self.bn4 = nn.BatchNorm2d(64)\n",
        "        self.classifier = nn.Linear(64*64*64, 2)\n",
        "\n",
        "    def forward(self, x):\n",
        "        x1 = self.bnd1(self.relu(self.conv1(x)))\n",
        "        x2 = self.bnd2(self.relu(self.conv2(x1)))\n",
        "        x3 = self.bnd3(self.relu(self.conv3(x2)))\n",
        "        x4 = self.bnd4(self.relu(self.conv4(x3)))\n",
        "        x5 = self.bnd5(self.relu(self.conv5(x4)))\n",
        "\n",
        "        y1 = self.bn1(self.relu(self.deconv1(x5)))\n",
        "        y2 = self.bn2(self.relu(self.deconv2(y1)))\n",
        "        y3 = self.bn3(self.relu(self.deconv3(y2)))\n",
        "        y4 = self.bn4(self.relu(self.deconv4(y3)))\n",
        "\n",
        "        y5 = torch.flatten(y4, 1)\n",
        "\n",
        "        # print(y5.shape)\n",
        "\n",
        "        score = self.classifier(y5)\n",
        "\n",
        "        return score"
      ]
    },
    {
      "cell_type": "markdown",
      "metadata": {
        "id": "omMnTKrHiSW3"
      },
      "source": [
        "## Training"
      ]
    },
    {
      "cell_type": "code",
      "execution_count": 88,
      "metadata": {
        "id": "fvWH1lRyiSW4"
      },
      "outputs": [],
      "source": [
        "model = CustomConvnet().to(device=device)\n",
        "criterion = nn.CrossEntropyLoss()\n",
        "optimizer = torch.optim.SGD(model.parameters(), lr=lr)\n",
        "\n",
        "os.makedirs('./models', exist_ok=True)"
      ]
    },
    {
      "cell_type": "code",
      "source": [
        "def test_data_loading():\n",
        "    for batch_idx, (inputs, labels) in enumerate(train_loader):\n",
        "        print(f'Batch {batch_idx+1}: Loaded {inputs.size(0)} samples')\n",
        "        if batch_idx == 3:  # Test only the first 2 batches\n",
        "            break\n",
        "\n",
        "test_data_loading()"
      ],
      "metadata": {
        "id": "S_OBME1Ekoq-",
        "outputId": "b57bd2b3-1993-41f8-aa8f-e509bae78af8",
        "colab": {
          "base_uri": "https://localhost:8080/"
        }
      },
      "execution_count": 89,
      "outputs": [
        {
          "output_type": "stream",
          "name": "stdout",
          "text": [
            "Batch 1: Loaded 16 samples\n",
            "Batch 2: Loaded 16 samples\n",
            "Batch 3: Loaded 16 samples\n",
            "Batch 4: Loaded 16 samples\n"
          ]
        }
      ]
    },
    {
      "cell_type": "code",
      "execution_count": 90,
      "metadata": {
        "id": "eir8VfGkiSW4",
        "outputId": "74799655-d748-4d67-d0c7-ad765e87fd20",
        "colab": {
          "base_uri": "https://localhost:8080/"
        }
      },
      "outputs": [
        {
          "output_type": "stream",
          "name": "stdout",
          "text": [
            "Epoch [1/10], Loss: 2.1058, Val Loss: 1.9435, Val Acc: 0.7457\n",
            "Epoch [2/10], Loss: 0.3115, Val Loss: 0.7972, Val Acc: 0.8924\n",
            "Epoch [3/10], Loss: 0.0784, Val Loss: 0.4811, Val Acc: 0.9478\n",
            "Epoch [4/10], Loss: 0.0397, Val Loss: 4.9578, Val Acc: 0.7185\n",
            "Epoch [5/10], Loss: 0.0972, Val Loss: 0.3556, Val Acc: 0.9587\n",
            "Epoch [6/10], Loss: 0.0047, Val Loss: 0.4020, Val Acc: 0.9576\n",
            "Epoch [7/10], Loss: 0.0026, Val Loss: 0.3630, Val Acc: 0.9641\n",
            "Epoch [8/10], Loss: 0.0006, Val Loss: 0.3865, Val Acc: 0.9609\n",
            "Epoch [9/10], Loss: 0.0003, Val Loss: 0.3698, Val Acc: 0.9630\n",
            "Epoch [10/10], Loss: 0.0000, Val Loss: 0.3729, Val Acc: 0.9630\n"
          ]
        }
      ],
      "source": [
        "train_acc = []\n",
        "train_loss = []\n",
        "val_acc = []\n",
        "val_loss = []\n",
        "\n",
        "\n",
        "min_val_loss = np.inf\n",
        "\n",
        "for epoch in range(num_epochs):\n",
        "    num_correct = 0\n",
        "    epoch_train_loss = 0\n",
        "    model.train()\n",
        "    num_batches = 0\n",
        "\n",
        "    for batch_idx, (inputs, labels) in enumerate(train_loader):\n",
        "        inputs, labels = inputs.to(device), labels.to(device)\n",
        "\n",
        "        optimizer.zero_grad()\n",
        "\n",
        "        outputs = model(inputs)\n",
        "\n",
        "        _, predictions = outputs.max(1)\n",
        "        # print(outputs.shape)\n",
        "        #print(predictions.shape)\n",
        "        #print(labels.shape)\n",
        "\n",
        "        # print(predictions)\n",
        "\n",
        "        num_correct += (predictions == labels).sum().item()\n",
        "        loss = criterion(outputs, labels)\n",
        "        loss.backward()\n",
        "        optimizer.step()\n",
        "\n",
        "        epoch_train_loss += loss.item()\n",
        "\n",
        "        num_batches = batch_idx\n",
        "\n",
        "    train_acc.append(num_correct / num_batches)\n",
        "    train_loss.append(epoch_train_loss / num_batches)\n",
        "\n",
        "\n",
        "    model.eval()\n",
        "    epoch_val_loss = 0\n",
        "    epoch_val_correct = 0\n",
        "    num_val_batches = 0\n",
        "    with torch.no_grad():\n",
        "        for inputs, labels in val_loader:\n",
        "            inputs, labels = inputs.to(device), labels.to(device)\n",
        "\n",
        "            outputs = model(inputs)\n",
        "\n",
        "            _, predictions = outputs.max(1)\n",
        "            epoch_val_correct += (predictions == labels).sum().item()\n",
        "            loss = criterion(outputs, labels)\n",
        "            epoch_val_loss += loss.item()\n",
        "\n",
        "            num_val_batches += 1\n",
        "\n",
        "    epoch_val_acc = epoch_val_correct / len(val_loader.dataset)\n",
        "    epoch_val_loss /= num_val_batches\n",
        "\n",
        "    val_loss.append(epoch_val_loss)\n",
        "    val_acc.append(epoch_val_acc)\n",
        "\n",
        "    if epoch_val_loss < min_val_loss:\n",
        "      min_val_loss = epoch_val_loss\n",
        "      torch.save(model.state_dict(), './models/final_model.h5')\n",
        "\n",
        "\n",
        "\n",
        "    print('Epoch [{}/{}], Loss: {:.4f}, Val Loss: {:.4f}, Val Acc: {:.4f}'.format(epoch+1, num_epochs, train_loss[-1], val_loss[-1], val_acc[-1]))"
      ]
    },
    {
      "cell_type": "markdown",
      "source": [
        "## Testing"
      ],
      "metadata": {
        "id": "V9DMowLVnzFZ"
      }
    },
    {
      "cell_type": "code",
      "source": [
        "model.load_state_dict(torch.load('./models/final_model.h5'))"
      ],
      "metadata": {
        "id": "gw62SZjKn02X",
        "outputId": "5c2b54c5-d3fe-4546-b9db-8b3c035b388c",
        "colab": {
          "base_uri": "https://localhost:8080/"
        }
      },
      "execution_count": 93,
      "outputs": [
        {
          "output_type": "execute_result",
          "data": {
            "text/plain": [
              "<All keys matched successfully>"
            ]
          },
          "metadata": {},
          "execution_count": 93
        }
      ]
    },
    {
      "cell_type": "code",
      "source": [
        "# Testing model\n",
        "test_correct = 0\n",
        "test_loss = 0\n",
        "\n",
        "with torch.no_grad():\n",
        "        for inputs, labels in test_loader:\n",
        "            inputs, labels = inputs.to(device), labels.to(device)\n",
        "\n",
        "            outputs = model(inputs)\n",
        "            _, predictions = outputs.max(1)\n",
        "            test_correct += (predictions == labels).sum().item()\n",
        "            loss = criterion(outputs, labels)\n",
        "            test_loss += loss.item()\n",
        "\n",
        "            num_val_batches += 1\n",
        "        test_acc = test_correct / len(test_loader.dataset)\n",
        "\n",
        "\n",
        "        print('Test Loss: {:.4f}, Test Acc: {:.4f}'.format(test_loss, test_acc))"
      ],
      "metadata": {
        "id": "YE2xlqdsn2rO",
        "outputId": "6ec1fd5b-7301-4865-f249-023f67041a74",
        "colab": {
          "base_uri": "https://localhost:8080/"
        }
      },
      "execution_count": 94,
      "outputs": [
        {
          "output_type": "stream",
          "name": "stdout",
          "text": [
            "Test Loss: 8.0542, Test Acc: 0.9565\n"
          ]
        }
      ]
    }
  ],
  "metadata": {
    "kernelspec": {
      "display_name": "Python 3",
      "name": "python3"
    },
    "language_info": {
      "codemirror_mode": {
        "name": "ipython",
        "version": 3
      },
      "file_extension": ".py",
      "mimetype": "text/x-python",
      "name": "python",
      "nbconvert_exporter": "python",
      "pygments_lexer": "ipython3",
      "version": "3.9.2"
    },
    "colab": {
      "provenance": [],
      "gpuType": "T4"
    },
    "accelerator": "GPU"
  },
  "nbformat": 4,
  "nbformat_minor": 0
}